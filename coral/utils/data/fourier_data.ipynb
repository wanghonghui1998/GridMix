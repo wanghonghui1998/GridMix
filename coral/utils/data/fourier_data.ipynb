{
 "cells": [
  {
   "cell_type": "code",
   "execution_count": 1,
   "metadata": {},
   "outputs": [],
   "source": [
    "import h5py \n",
    "import numpy as np\n",
    "import matplotlib.pyplot as plt\n",
    "from mpl_toolkits.axes_grid1 import make_axes_locatable, ImageGrid\n",
    "import matplotlib.gridspec as gridspec\n",
    "import torch \n",
    "\n",
    "def write_image(batch_gt, batch_pred, state_idx, path, cmap='plasma', divider=1):\n",
    "    \"\"\"\n",
    "    Print reference trajectory (1st line) and predicted trajectory (2nd line).\n",
    "    Skip every N frames (N=divider)\n",
    "    \"\"\"\n",
    "    seq_len, height, width, state_c = batch_gt.shape  # [20, 64, 64, 1]\n",
    "    t_horizon = seq_len // divider\n",
    "    new_seq_len = t_horizon * divider \n",
    "    batch_gt = batch_gt[:new_seq_len].reshape(divider, t_horizon, height, width, state_c)\n",
    "    fig = plt.figure(figsize=(t_horizon+1, divider))\n",
    "    grid = ImageGrid(fig, 111,  # similar to subplot(111)\n",
    "                     nrows_ncols=(divider, t_horizon),  # creates 2x2 grid of axes\n",
    "                     axes_pad=0.05, # pad between axes in inch.\n",
    "                     share_all=True,\n",
    "                     cbar_location=\"right\",\n",
    "                     cbar_mode='edge',\n",
    "                     direction = 'row',\n",
    "                     cbar_size=\"10%\",\n",
    "                     cbar_pad=0.15)  \n",
    "    vmax = np.max(batch_pred[...,state_idx])\n",
    "    vmin = np.min(batch_pred[...,state_idx])\n",
    "    for traj in range(divider):\n",
    "        for t in range(t_horizon):\n",
    "            # Iterating over the grid returns the Axes.\n",
    "            im = grid[traj * t_horizon + t].imshow(batch_gt[traj, t, :, :, state_idx], vmax=vmax, vmin=vmin, cmap=cmap, interpolation='none')\n",
    "            grid[traj * t_horizon + t].set_axis_off()\n",
    "            if t == t_horizon-1:\n",
    "                grid[traj * t_horizon + t].cax.colorbar(im)\n",
    "           \n",
    "    plt.savefig(path, dpi=72, bbox_inches='tight', pad_inches=0)\n",
    "    # plt.close(fig)\n",
    "    fig.clf()\n",
    "    plt.close(fig)\n"
   ]
  },
  {
   "cell_type": "code",
   "execution_count": 2,
   "metadata": {},
   "outputs": [
    {
     "name": "stdout",
     "output_type": "stream",
     "text": [
      "(4459, 64, 64)\n"
     ]
    }
   ],
   "source": [
    "data_path = '/cluster/nvme4a/whh/dataset/sst/data_zone_9.h5'\n",
    "h5_data = h5py.File(data_path, 'r')\n",
    "data = h5_data['mygroup']['mydataset'][:]\n",
    "data = data.transpose(2,1,0)\n",
    "print(data.shape)"
   ]
  },
  {
   "cell_type": "code",
   "execution_count": 3,
   "metadata": {},
   "outputs": [],
   "source": [
    "import os \n",
    "path = '/cluster/home1/whh/new_repo/coral/coral/utils/data' \n",
    "# os.mkdir(path)"
   ]
  },
  {
   "cell_type": "code",
   "execution_count": 5,
   "metadata": {},
   "outputs": [
    {
     "name": "stdout",
     "output_type": "stream",
     "text": [
      "(1, 64, 64)\n"
     ]
    }
   ],
   "source": [
    "img = data[0:1]\n",
    "print(img.shape)\n",
    "write_image(img[...,None], img[...,None], 0, path=os.path.join(path, f'data.png'), cmap='twilight_shifted', divider=1)\n"
   ]
  },
  {
   "cell_type": "code",
   "execution_count": 10,
   "metadata": {},
   "outputs": [
    {
     "name": "stdout",
     "output_type": "stream",
     "text": [
      "torch.Size([1, 64, 64])\n"
     ]
    }
   ],
   "source": [
    "fimg = torch.fft.fft2(torch.tensor(img))\n",
    "print(fimg.shape)"
   ]
  },
  {
   "cell_type": "code",
   "execution_count": 15,
   "metadata": {},
   "outputs": [
    {
     "name": "stdout",
     "output_type": "stream",
     "text": [
      "torch.Size([1, 64, 64])\n"
     ]
    }
   ],
   "source": [
    "print(fimg.imag.shape)"
   ]
  },
  {
   "cell_type": "code",
   "execution_count": 18,
   "metadata": {},
   "outputs": [],
   "source": [
    "write_image(fimg.real[...,None].numpy(), fimg.real[...,None].numpy(), 0, path=os.path.join(path, f'fdata_real.png'), cmap='twilight_shifted', divider=1)"
   ]
  },
  {
   "cell_type": "code",
   "execution_count": null,
   "metadata": {},
   "outputs": [],
   "source": [
    "write_image(fimg.imag[...,None].numpy(), fimg.imag[...,None].numpy(), 0, path=os.path.join(path, f'fdata_imag.png'), cmap='twilight_shifted', divider=1)"
   ]
  }
 ],
 "metadata": {
  "kernelspec": {
   "display_name": "coral",
   "language": "python",
   "name": "python3"
  },
  "language_info": {
   "codemirror_mode": {
    "name": "ipython",
    "version": 3
   },
   "file_extension": ".py",
   "mimetype": "text/x-python",
   "name": "python",
   "nbconvert_exporter": "python",
   "pygments_lexer": "ipython3",
   "version": "3.9.19"
  }
 },
 "nbformat": 4,
 "nbformat_minor": 2
}
