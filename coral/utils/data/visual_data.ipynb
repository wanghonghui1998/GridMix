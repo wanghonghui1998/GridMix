{
 "cells": [
  {
   "cell_type": "code",
   "execution_count": 1,
   "metadata": {},
   "outputs": [],
   "source": [
    "import h5py \n",
    "import numpy as np\n",
    "import matplotlib.pyplot as plt\n",
    "from mpl_toolkits.axes_grid1 import make_axes_locatable, ImageGrid\n",
    "import matplotlib.gridspec as gridspec\n",
    "\n",
    "def write_image(batch_gt, batch_pred, state_idx, path, cmap='plasma', divider=1):\n",
    "    \"\"\"\n",
    "    Print reference trajectory (1st line) and predicted trajectory (2nd line).\n",
    "    Skip every N frames (N=divider)\n",
    "    \"\"\"\n",
    "    seq_len, height, width, state_c = batch_gt.shape  # [20, 64, 64, 1]\n",
    "    t_horizon = seq_len // divider\n",
    "    new_seq_len = t_horizon * divider \n",
    "    batch_gt = batch_gt[:new_seq_len].reshape(divider, t_horizon, height, width, state_c)\n",
    "    fig = plt.figure(figsize=(t_horizon+1, divider))\n",
    "    grid = ImageGrid(fig, 111,  # similar to subplot(111)\n",
    "                     nrows_ncols=(divider, t_horizon),  # creates 2x2 grid of axes\n",
    "                     axes_pad=0.05, # pad between axes in inch.\n",
    "                     share_all=True,\n",
    "                     cbar_location=\"right\",\n",
    "                     cbar_mode='edge',\n",
    "                     direction = 'row',\n",
    "                     cbar_size=\"10%\",\n",
    "                     cbar_pad=0.15)  \n",
    "    vmax = np.max(batch_pred[...,state_idx])\n",
    "    vmin = np.min(batch_pred[...,state_idx])\n",
    "    for traj in range(divider):\n",
    "        for t in range(t_horizon):\n",
    "            # Iterating over the grid returns the Axes.\n",
    "            im = grid[traj * t_horizon + t].imshow(batch_gt[traj, t, :, :, state_idx], vmax=vmax, vmin=vmin, cmap=cmap, interpolation='none')\n",
    "            grid[traj * t_horizon + t].set_axis_off()\n",
    "            if t == t_horizon-1:\n",
    "                grid[traj * t_horizon + t].cax.colorbar(im)\n",
    "           \n",
    "    plt.savefig(path, dpi=72, bbox_inches='tight', pad_inches=0)\n",
    "    # plt.close(fig)\n",
    "    fig.clf()\n",
    "    plt.close(fig)\n"
   ]
  },
  {
   "cell_type": "code",
   "execution_count": 2,
   "metadata": {},
   "outputs": [
    {
     "name": "stdout",
     "output_type": "stream",
     "text": [
      "(4459, 64, 64)\n"
     ]
    }
   ],
   "source": [
    "data_path = '/cluster/nvme4a/whh/dataset/sst/data_zone_1.h5'\n",
    "h5_data = h5py.File(data_path, 'r')\n",
    "data = h5_data['mygroup']['mydataset'][:]\n",
    "data = data.transpose(2,1,0)\n",
    "print(data.shape)"
   ]
  },
  {
   "cell_type": "code",
   "execution_count": 3,
   "metadata": {},
   "outputs": [],
   "source": [
    "import os \n",
    "path = '/cluster/nvme4a/whh/dataset/sst/data_zone_1' \n",
    "# os.mkdir(path)"
   ]
  },
  {
   "cell_type": "code",
   "execution_count": 4,
   "metadata": {},
   "outputs": [
    {
     "name": "stdout",
     "output_type": "stream",
     "text": [
      "91 4459\n"
     ]
    }
   ],
   "source": [
    "seq = 13*7 \n",
    "data_len = data.shape[0]\n",
    "print(seq, data_len)\n",
    "for idx in range(data_len//seq):\n",
    "    data_batch = data[idx*seq:(idx+1)*seq]\n",
    "    write_image(data_batch[...,None], data[...,None], 0, path=os.path.join(path, f'frame_{idx}.png'), cmap='twilight_shifted', divider=7)\n"
   ]
  },
  {
   "cell_type": "code",
   "execution_count": 5,
   "metadata": {},
   "outputs": [],
   "source": [
    "h5_data.close()"
   ]
  },
  {
   "cell_type": "code",
   "execution_count": 6,
   "metadata": {},
   "outputs": [
    {
     "name": "stdout",
     "output_type": "stream",
     "text": [
      "/cluster/nvme4a/whh/dataset/sst/data_zone_2\n",
      "(4459, 64, 64)\n",
      "91 4459\n",
      "/cluster/nvme4a/whh/dataset/sst/data_zone_3\n",
      "(4459, 64, 64)\n",
      "91 4459\n",
      "/cluster/nvme4a/whh/dataset/sst/data_zone_4\n",
      "(4459, 64, 64)\n",
      "91 4459\n",
      "/cluster/nvme4a/whh/dataset/sst/data_zone_5\n",
      "(4459, 64, 64)\n",
      "91 4459\n",
      "/cluster/nvme4a/whh/dataset/sst/data_zone_6\n",
      "(4459, 64, 64)\n",
      "91 4459\n",
      "/cluster/nvme4a/whh/dataset/sst/data_zone_7\n",
      "(4459, 64, 64)\n",
      "91 4459\n",
      "/cluster/nvme4a/whh/dataset/sst/data_zone_8\n",
      "(4459, 64, 64)\n",
      "91 4459\n",
      "/cluster/nvme4a/whh/dataset/sst/data_zone_9\n",
      "(4459, 64, 64)\n",
      "91 4459\n"
     ]
    }
   ],
   "source": [
    "for file_id in range(2,20):\n",
    "    path = f'/cluster/nvme4a/whh/dataset/sst/data_zone_{file_id}' \n",
    "    print(path)\n",
    "    os.mkdir(path)\n",
    "    data_path = f'/cluster/nvme4a/whh/dataset/sst/data_zone_{file_id}.h5'\n",
    "    h5_data = h5py.File(data_path, 'r')\n",
    "    data = h5_data['mygroup']['mydataset'][:]\n",
    "    data = data.transpose(2,1,0)\n",
    "    print(data.shape)\n",
    "\n",
    "    seq = 13*7 \n",
    "    data_len = data.shape[0]\n",
    "    print(seq, data_len)\n",
    "    for idx in range(data_len//seq):\n",
    "        data_batch = data[idx*seq:(idx+1)*seq]\n",
    "        write_image(data_batch[...,None], data[...,None], 0, path=os.path.join(path, f'frame_{idx}.png'), cmap='twilight_shifted', divider=7)\n",
    "\n",
    "    h5_data.close()"
   ]
  }
 ],
 "metadata": {
  "kernelspec": {
   "display_name": "coral",
   "language": "python",
   "name": "python3"
  },
  "language_info": {
   "codemirror_mode": {
    "name": "ipython",
    "version": 3
   },
   "file_extension": ".py",
   "mimetype": "text/x-python",
   "name": "python",
   "nbconvert_exporter": "python",
   "pygments_lexer": "ipython3",
   "version": "3.9.19"
  }
 },
 "nbformat": 4,
 "nbformat_minor": 2
}
